{
 "cells": [
  {
   "attachments": {},
   "cell_type": "markdown",
   "metadata": {},
   "source": [
    "IN PROGRESS ..."
   ]
  },
  {
   "cell_type": "code",
   "execution_count": 1,
   "metadata": {},
   "outputs": [
    {
     "name": "stdout",
     "output_type": "stream",
     "text": [
      "vols:\n",
      "[[0.01578017 0.02296497 0.04559577 0.02475209 0.02494946 0.03758972\n",
      "  0.01895312 0.0189952  0.02024175 0.02475209 0.01959271 0.02736243\n",
      "  0.02107178 0.02519977 0.04185401 0.02313197]]\n",
      "vector_returns:\n",
      "[ 0.25064222  1.03106509  5.6979343   0.01226667  1.01394061 -0.35355812\n",
      " -0.26756235  0.3339847   0.32236997  0.01226667  0.55777224 -0.04496444\n",
      "  0.43885956  0.60400967  0.06899642  0.11934049]\n",
      "vec_weights:\n",
      "[[0.0625 0.0625 0.0625 0.0625 0.0625 0.0625 0.0625 0.0625 0.0625 0.0625\n",
      "  0.0625 0.0625 0.0625 0.0625 0.0625 0.0625]]\n",
      "beta:\n",
      "[[1.         1.1851974  1.87159327 1.08048816 1.35407016 1.80278516\n",
      "  0.88941028 0.98471324 1.04809782 1.08048816 0.93982546 1.27228793\n",
      "  0.86997399 1.0561277  1.54810326 1.19939482]]\n"
     ]
    },
    {
     "ename": "ValueError",
     "evalue": "shapes (16,16) and (1,16) not aligned: 16 (dim 1) != 1 (dim 0)",
     "output_type": "error",
     "traceback": [
      "\u001b[1;31m---------------------------------------------------------------------------\u001b[0m",
      "\u001b[1;31mValueError\u001b[0m                                Traceback (most recent call last)",
      "Cell \u001b[1;32mIn[1], line 13\u001b[0m\n\u001b[0;32m     10\u001b[0m start_date \u001b[39m=\u001b[39m \u001b[39m\"\u001b[39m\u001b[39m01/01/2020\u001b[39m\u001b[39m\"\u001b[39m \u001b[39m#pd.to_datetime('2020-01-01')\u001b[39;00m\n\u001b[0;32m     11\u001b[0m end_date \u001b[39m=\u001b[39m \u001b[39m\"\u001b[39m\u001b[39m03/03/2023\u001b[39m\u001b[39m\"\u001b[39m \u001b[39m#pd.to_datetime('2020-01-01')\u001b[39;00m\n\u001b[1;32m---> 13\u001b[0m imply \u001b[39m=\u001b[39m optimize_portfolio( basket, start_date, end_date) \n",
      "File \u001b[1;32m~\\Documents\\MEGA\\IT QUANT\\Python\\underlyings\\underlyings\\optimize_portfolio.py:76\u001b[0m, in \u001b[0;36moptimize_portfolio\u001b[1;34m(components, start_date, end_date)\u001b[0m\n\u001b[0;32m     73\u001b[0m     \u001b[39melse\u001b[39;00m:\n\u001b[0;32m     74\u001b[0m         I_matrices\u001b[39m.\u001b[39mappend(np\u001b[39m.\u001b[39mzeros(nb_compo \u001b[39m-\u001b[39m \u001b[39m1\u001b[39m))\n\u001b[1;32m---> 76\u001b[0m mat \u001b[39m=\u001b[39m np\u001b[39m.\u001b[39mdot(vec_weights , np\u001b[39m.\u001b[39;49mdot(matrix_covar, vec_weights))\n\u001b[0;32m     77\u001b[0m A_components \u001b[39m=\u001b[39m [matrix_vols[\u001b[39m0\u001b[39m, \u001b[39m1\u001b[39m:nb_compo], ones] \u001b[39m+\u001b[39m I_matrices\n\u001b[0;32m     78\u001b[0m A \u001b[39m=\u001b[39m np\u001b[39m.\u001b[39marray(A_components)\n",
      "File \u001b[1;32m<__array_function__ internals>:200\u001b[0m, in \u001b[0;36mdot\u001b[1;34m(*args, **kwargs)\u001b[0m\n",
      "\u001b[1;31mValueError\u001b[0m: shapes (16,16) and (1,16) not aligned: 16 (dim 1) != 1 (dim 0)"
     ]
    }
   ],
   "source": [
    "import sys\n",
    "from underlyings.optimize_portfolio import optimize_portfolio\n",
    "from underlyings.basket import Basket\n",
    "import pandas as pd\n",
    "\n",
    "# TIckers not found to check : GH - WCN - TTE - SGML\n",
    "basket = Basket([\"SPX\",\"AAPL\",\"TSLA\",\"AMZN\",\"AVGO\",\"BA\",\"MDT\", \"ITW\", \"ADP\",\"AMZN\",\"NDAQ\",\"BBY\",\"AOS\",\"XOM\",\"YPF\",\"EMR\"], [1/18]*18)\n",
    "basket_price_date = \"03/01/2023\" #pd.to_datetime('2020-01-01')\n",
    "\n",
    "start_date = \"01/01/2020\" #pd.to_datetime('2020-01-01')\n",
    "end_date = \"03/03/2023\" #pd.to_datetime('2020-01-01')\n",
    "\n",
    "imply = optimize_portfolio( basket, start_date, end_date) "
   ]
  },
  {
   "cell_type": "code",
   "execution_count": null,
   "metadata": {},
   "outputs": [],
   "source": []
  },
  {
   "cell_type": "code",
   "execution_count": 2,
   "metadata": {},
   "outputs": [
    {
     "ename": "ValueError",
     "evalue": "Invalid input for linprog: unable to interpret bounds with this dimension tuple: (3, 2).",
     "output_type": "error",
     "traceback": [
      "\u001b[1;31m---------------------------------------------------------------------------\u001b[0m",
      "\u001b[1;31mValueError\u001b[0m                                Traceback (most recent call last)",
      "Cell \u001b[1;32mIn[2], line 14\u001b[0m\n\u001b[0;32m     12\u001b[0m \u001b[39mfrom\u001b[39;00m \u001b[39mscipy\u001b[39;00m\u001b[39m.\u001b[39;00m\u001b[39moptimize\u001b[39;00m \u001b[39mimport\u001b[39;00m linprog\n\u001b[0;32m     13\u001b[0m \u001b[39m# Solve the problem by Simplex method in Optimization\u001b[39;00m\n\u001b[1;32m---> 14\u001b[0m res \u001b[39m=\u001b[39m linprog(c, A_ub\u001b[39m=\u001b[39;49mA, b_ub\u001b[39m=\u001b[39;49mb,  bounds\u001b[39m=\u001b[39;49m(R, T, M), method\u001b[39m=\u001b[39;49m\u001b[39m'\u001b[39;49m\u001b[39msimplex\u001b[39;49m\u001b[39m'\u001b[39;49m, options\u001b[39m=\u001b[39;49m{\u001b[39m\"\u001b[39;49m\u001b[39mdisp\u001b[39;49m\u001b[39m\"\u001b[39;49m: \u001b[39mTrue\u001b[39;49;00m})  \u001b[39m# linear programming p[roblem\u001b[39;00m\n\u001b[0;32m     15\u001b[0m \u001b[39mprint\u001b[39m(res) \u001b[39m# print results\u001b[39;00m\n",
      "File \u001b[1;32mc:\\Users\\Administrateur\\AppData\\Local\\Programs\\Python\\Python311\\Lib\\site-packages\\scipy\\optimize\\_linprog.py:626\u001b[0m, in \u001b[0;36mlinprog\u001b[1;34m(c, A_ub, b_ub, A_eq, b_eq, bounds, method, callback, options, x0, integrality)\u001b[0m\n\u001b[0;32m    623\u001b[0m     integrality \u001b[39m=\u001b[39m np\u001b[39m.\u001b[39mbroadcast_to(integrality, np\u001b[39m.\u001b[39mshape(c))\n\u001b[0;32m    625\u001b[0m lp \u001b[39m=\u001b[39m _LPProblem(c, A_ub, b_ub, A_eq, b_eq, bounds, x0, integrality)\n\u001b[1;32m--> 626\u001b[0m lp, solver_options \u001b[39m=\u001b[39m _parse_linprog(lp, options, meth)\n\u001b[0;32m    627\u001b[0m tol \u001b[39m=\u001b[39m solver_options\u001b[39m.\u001b[39mget(\u001b[39m'\u001b[39m\u001b[39mtol\u001b[39m\u001b[39m'\u001b[39m, \u001b[39m1e-9\u001b[39m)\n\u001b[0;32m    629\u001b[0m \u001b[39m# Give unmodified problem to HiGHS\u001b[39;00m\n",
      "File \u001b[1;32mc:\\Users\\Administrateur\\AppData\\Local\\Programs\\Python\\Python311\\Lib\\site-packages\\scipy\\optimize\\_linprog_util.py:1026\u001b[0m, in \u001b[0;36m_parse_linprog\u001b[1;34m(lp, options, meth)\u001b[0m\n\u001b[0;32m   1023\u001b[0m solver_options, A_ub, A_eq \u001b[39m=\u001b[39m _check_sparse_inputs(solver_options, meth,\n\u001b[0;32m   1024\u001b[0m                                                   lp\u001b[39m.\u001b[39mA_ub, lp\u001b[39m.\u001b[39mA_eq)\n\u001b[0;32m   1025\u001b[0m \u001b[39m# Convert lists to numpy arrays, etc...\u001b[39;00m\n\u001b[1;32m-> 1026\u001b[0m lp \u001b[39m=\u001b[39m _clean_inputs(lp\u001b[39m.\u001b[39;49m_replace(A_ub\u001b[39m=\u001b[39;49mA_ub, A_eq\u001b[39m=\u001b[39;49mA_eq))\n\u001b[0;32m   1027\u001b[0m \u001b[39mreturn\u001b[39;00m lp, solver_options\n",
      "File \u001b[1;32mc:\\Users\\Administrateur\\AppData\\Local\\Programs\\Python\\Python311\\Lib\\site-packages\\scipy\\optimize\\_linprog_util.py:462\u001b[0m, in \u001b[0;36m_clean_inputs\u001b[1;34m(lp)\u001b[0m\n\u001b[0;32m    458\u001b[0m     \u001b[39mraise\u001b[39;00m \u001b[39mValueError\u001b[39;00m(\n\u001b[0;32m    459\u001b[0m         \u001b[39m\"\u001b[39m\u001b[39mInvalid input for linprog: provide a \u001b[39m\u001b[39m{:d}\u001b[39;00m\u001b[39m x 2 array for bounds, \u001b[39m\u001b[39m\"\u001b[39m\n\u001b[0;32m    460\u001b[0m         \u001b[39m\"\u001b[39m\u001b[39mnot a 2 x \u001b[39m\u001b[39m{:d}\u001b[39;00m\u001b[39m array.\u001b[39m\u001b[39m\"\u001b[39m\u001b[39m.\u001b[39mformat(n_x, n_x))\n\u001b[0;32m    461\u001b[0m \u001b[39melse\u001b[39;00m:\n\u001b[1;32m--> 462\u001b[0m     \u001b[39mraise\u001b[39;00m \u001b[39mValueError\u001b[39;00m(\n\u001b[0;32m    463\u001b[0m         \u001b[39m\"\u001b[39m\u001b[39mInvalid input for linprog: unable to interpret bounds with this \u001b[39m\u001b[39m\"\u001b[39m\n\u001b[0;32m    464\u001b[0m         \u001b[39m\"\u001b[39m\u001b[39mdimension tuple: \u001b[39m\u001b[39m{0}\u001b[39;00m\u001b[39m.\u001b[39m\u001b[39m\"\u001b[39m\u001b[39m.\u001b[39mformat(bsh))\n\u001b[0;32m    466\u001b[0m \u001b[39m# The process above creates nan-s where the input specified None\u001b[39;00m\n\u001b[0;32m    467\u001b[0m \u001b[39m# Convert the nan-s in the 1st column to -np.inf and in the 2nd column\u001b[39;00m\n\u001b[0;32m    468\u001b[0m \u001b[39m# to np.inf\u001b[39;00m\n\u001b[0;32m    469\u001b[0m i_none \u001b[39m=\u001b[39m np\u001b[39m.\u001b[39misnan(bounds_clean[:, \u001b[39m0\u001b[39m])\n",
      "\u001b[1;31mValueError\u001b[0m: Invalid input for linprog: unable to interpret bounds with this dimension tuple: (3, 2)."
     ]
    }
   ],
   "source": [
    "import numpy as np\n",
    "import scipy as sp\n",
    "# Get matrices\n",
    "c = [-8, -12, -22 ,-33]\n",
    "A = [[17, 27, 34, 4], [12, 33, 15, 4]]\n",
    "b = [0.1, 0.9]\n",
    "# define the upper bound and the lower bound\n",
    "R = (0, None)\n",
    "T = (0, None)\n",
    "M = (0, None)\n",
    "# Implementing the Simplex Algorithm\n",
    "from scipy.optimize import linprog\n",
    "# Solve the problem by Simplex method in Optimization\n",
    "res = linprog(c, A_ub=A, b_ub=b,  bounds=(R, T, M), method='simplex', options={\"disp\": True})  # linear programming p[roblem\n",
    "print(res) # print results"
   ]
  },
  {
   "cell_type": "code",
   "execution_count": 89,
   "metadata": {},
   "outputs": [
    {
     "name": "stdout",
     "output_type": "stream",
     "text": [
      "Optimal value: 0.0357 \n",
      "x values: [0.001      0.89101786 0.001     ] \n",
      "Number of iterations performed: 1 \n",
      "Status: Optimization terminated successfully. (HiGHS Status 7: Optimal)\n"
     ]
    }
   ],
   "source": [
    "import numpy as np\n",
    "\n",
    "nb_compo = 4\n",
    "matrix_vols = [0.05, 0.07, 0.056, 0.033]\n",
    "vec_returns = [ -0.023, -0.033, -0.04, -0.023] \n",
    "I = - np.eye(nb_compo -1)\n",
    "ones = np.ones(nb_compo -1)\n",
    "A = np.array([ones, I[0], I[1], I[2], matrix_vols[1: nb_compo]])\n",
    "# Set the inequality constraints vector\n",
    "b = np.array([1.0001, -0.001, -0.001, -0.001, matrix_vols[0]])\n",
    "# Set the coefficients of the linear objective function vector\n",
    "# Note: when maximizing, change the signs of the c vector coefficient\n",
    "c = np.array( vec_returns[1:nb_compo])\n",
    "# Solve linear programming problem\n",
    "res = linprog(c, A_ub=A, b_ub=b)\n",
    "# Print results\n",
    "print('Optimal value:', round(res.fun*-1, ndigits=4),\n",
    "'\\nx values:', res.x,\n",
    "'\\nNumber of iterations performed:', res.nit,\n",
    "'\\nStatus:', res.message)\n"
   ]
  },
  {
   "cell_type": "code",
   "execution_count": 76,
   "metadata": {},
   "outputs": [
    {
     "name": "stdout",
     "output_type": "stream",
     "text": [
      "Optimal value: 15100.0 \n",
      "x values: [660.   0. 340.] \n",
      "Number of iterations performed: 0 \n",
      "Status: Optimization terminated successfully. (HiGHS Status 7: Optimal)\n"
     ]
    }
   ],
   "source": [
    "\n",
    "import numpy as np\n",
    "from scipy.optimize import linprog\n",
    "\n",
    "# Set the inequality constraints matrix\n",
    "# Note: the inequality constraints must be in the form of <=\n",
    "A = np.array([[-1, -1, -1], [-1, 2, 0], [0, 0, -1], [-1, 0, 0], [0, -1, 0], [0, 0, -1]])\n",
    "\n",
    "# Set the inequality constraints vector\n",
    "b = np.array([-1000, 0, -340, 0, 0, 0])\n",
    "\n",
    "# Set the coefficients of the linear objective function vector\n",
    "c = np.array([10, 15, 25])\n",
    "\n",
    "# Solve linear programming problem\n",
    "res = linprog(c, A_ub=A, b_ub=b)\n",
    "\n",
    "# Print results\n",
    "print('Optimal value:', round(res.fun, ndigits=2),\n",
    "      '\\nx values:', res.x,\n",
    "      '\\nNumber of iterations performed:', res.nit,\n",
    "      '\\nStatus:', res.message)"
   ]
  },
  {
   "cell_type": "code",
   "execution_count": 4,
   "metadata": {},
   "outputs": [
    {
     "data": {
      "text/plain": [
       "array([ 2.3230e-01,  1.0001e+00, -1.0000e-03, -1.0000e-03])"
      ]
     },
     "execution_count": 4,
     "metadata": {},
     "output_type": "execute_result"
    }
   ],
   "source": [
    "import numpy as np\n",
    "nb_compo =5\n",
    "\n",
    "b_components = [0.2323, 1.0001, -0.001] + [-0.001]*(nb_compo-4)\n",
    "b = np.array(b_components)\n",
    "b"
   ]
  },
  {
   "cell_type": "code",
   "execution_count": 1,
   "metadata": {},
   "outputs": [
    {
     "data": {
      "text/plain": [
       "['c:\\\\Users\\\\Administrateur\\\\Documents\\\\MEGA\\\\IT Quant\\\\Python\\\\Notebooks',\n",
       " 'c:\\\\Users\\\\Administrateur\\\\AppData\\\\Local\\\\Programs\\\\Python\\\\Python311\\\\python311.zip',\n",
       " 'c:\\\\Users\\\\Administrateur\\\\AppData\\\\Local\\\\Programs\\\\Python\\\\Python311\\\\Lib',\n",
       " 'c:\\\\Users\\\\Administrateur\\\\AppData\\\\Local\\\\Programs\\\\Python\\\\Python311\\\\DLLs',\n",
       " 'c:\\\\Users\\\\Administrateur\\\\AppData\\\\Local\\\\Programs\\\\Python\\\\Python311',\n",
       " '',\n",
       " 'c:\\\\Users\\\\Administrateur\\\\AppData\\\\Local\\\\Programs\\\\Python\\\\Python311\\\\Lib\\\\site-packages',\n",
       " 'c:\\\\Users\\\\Administrateur\\\\AppData\\\\Local\\\\Programs\\\\Python\\\\Python311\\\\Lib\\\\site-packages\\\\win32',\n",
       " 'c:\\\\Users\\\\Administrateur\\\\AppData\\\\Local\\\\Programs\\\\Python\\\\Python311\\\\Lib\\\\site-packages\\\\win32\\\\lib',\n",
       " 'c:\\\\Users\\\\Administrateur\\\\AppData\\\\Local\\\\Programs\\\\Python\\\\Python311\\\\Lib\\\\site-packages\\\\Pythonwin',\n",
       " 'C:\\\\Users\\\\Administrateur\\\\Documents\\\\MEGA\\\\IT QUANT\\\\Python\\\\underlyings',\n",
       " 'C:\\\\Users\\\\Administrateur\\\\Documents\\\\MEGA\\\\IT QUANT\\\\Python\\\\pricing',\n",
       " 'C:\\\\Users\\\\Administrateur\\\\Documents\\\\MEGA\\\\IT QUANT\\\\Python\\\\utils']"
      ]
     },
     "execution_count": 1,
     "metadata": {},
     "output_type": "execute_result"
    }
   ],
   "source": [
    "import sys\n",
    "\n",
    "sys.path"
   ]
  },
  {
   "cell_type": "code",
   "execution_count": 16,
   "metadata": {},
   "outputs": [
    {
     "data": {
      "text/plain": [
       "array([10.25,  8.25, -7.75])"
      ]
     },
     "execution_count": 16,
     "metadata": {},
     "output_type": "execute_result"
    }
   ],
   "source": [
    "\n",
    "\n",
    "import numpy as np\n",
    "\n",
    "\n",
    "A = np.array([1,3,0.5])\n",
    "B = np.array([[1,3,0.5],[-1,3,0.5],[1,-3,0.5] ])\n",
    "\n",
    "A\n",
    "B\n",
    "C = np.dot(B,A)\n",
    "C"
   ]
  }
 ],
 "metadata": {
  "kernelspec": {
   "display_name": "Python 3",
   "language": "python",
   "name": "python3"
  },
  "language_info": {
   "codemirror_mode": {
    "name": "ipython",
    "version": 3
   },
   "file_extension": ".py",
   "mimetype": "text/x-python",
   "name": "python",
   "nbconvert_exporter": "python",
   "pygments_lexer": "ipython3",
   "version": "3.11.1"
  },
  "vscode": {
   "interpreter": {
    "hash": "4647e8f9bb9c23de8158615a764c6ae3466649a5b7984d657ad51295c379afa7"
   }
  }
 },
 "nbformat": 4,
 "nbformat_minor": 2
}
