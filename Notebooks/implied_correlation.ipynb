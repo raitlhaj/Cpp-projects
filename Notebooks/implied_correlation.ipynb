{
 "cells": [
  {
   "attachments": {},
   "cell_type": "markdown",
   "metadata": {},
   "source": [
    "IN PROGRESS ..."
   ]
  },
  {
   "cell_type": "code",
   "execution_count": 3,
   "metadata": {},
   "outputs": [
    {
     "ename": "UnboundLocalError",
     "evalue": "cannot access local variable 'resp_dict' where it is not associated with a value",
     "output_type": "error",
     "traceback": [
      "\u001b[1;31m---------------------------------------------------------------------------\u001b[0m",
      "\u001b[1;31mUnboundLocalError\u001b[0m                         Traceback (most recent call last)",
      "File \u001b[1;32m~\\Documents\\MEGA\\IT QUANT\\Python\\underlyings\\underlyings\\basket.py:16\u001b[0m, in \u001b[0;36mBasket.get_price\u001b[1;34m(self, price_date)\u001b[0m\n\u001b[0;32m     15\u001b[0m \u001b[39mtry\u001b[39;00m:\n\u001b[1;32m---> 16\u001b[0m   quote \u001b[39m=\u001b[39m Stock(\u001b[39mself\u001b[39;49m\u001b[39m.\u001b[39;49mreferences[i])\u001b[39m.\u001b[39;49mget_quotes(start_date \u001b[39m=\u001b[39;49m price_date, end_date \u001b[39m=\u001b[39;49m price_date)\n\u001b[0;32m     17\u001b[0m \u001b[39mexcept\u001b[39;00m:\n",
      "File \u001b[1;32m~\\Documents\\MEGA\\IT QUANT\\Python\\underlyings\\underlyings\\stock.py:43\u001b[0m, in \u001b[0;36mStock.get_quotes\u001b[1;34m(self, start_date, end_date)\u001b[0m\n\u001b[0;32m     42\u001b[0m chaine \u001b[39m=\u001b[39m \u001b[39mstr\u001b[39m(chaine) \u001b[39m+\u001b[39m country \u001b[39m+\u001b[39m \u001b[39m\"\u001b[39m\u001b[39m: \u001b[39m\u001b[39m\"\u001b[39m\u001b[39m+\u001b[39m \u001b[39mself\u001b[39m\u001b[39m.\u001b[39mticker \u001b[39m+\u001b[39m \u001b[39m\"\u001b[39m\u001b[39m=> OK \u001b[39m\u001b[39m\\n\u001b[39;00m\u001b[39m\"\u001b[39m\n\u001b[1;32m---> 43\u001b[0m df \u001b[39m=\u001b[39m pd\u001b[39m.\u001b[39mDataFrame(resp_dict\u001b[39m.\u001b[39mget(\u001b[39m'\u001b[39m\u001b[39mdata\u001b[39m\u001b[39m'\u001b[39m))\n\u001b[0;32m     44\u001b[0m df_new \u001b[39m=\u001b[39m pd\u001b[39m.\u001b[39mDataFrame(df[\u001b[39m'\u001b[39m\u001b[39mlast_close\u001b[39m\u001b[39m'\u001b[39m])\n",
      "\u001b[1;31mUnboundLocalError\u001b[0m: cannot access local variable 'resp_dict' where it is not associated with a value",
      "\nDuring handling of the above exception, another exception occurred:\n",
      "\u001b[1;31mUnboundLocalError\u001b[0m                         Traceback (most recent call last)",
      "Cell \u001b[1;32mIn[3], line 8\u001b[0m\n\u001b[0;32m      6\u001b[0m basket \u001b[39m=\u001b[39m Basket( [\u001b[39m\"\u001b[39m\u001b[39mAAPL\u001b[39m\u001b[39m\"\u001b[39m,\u001b[39m\"\u001b[39m\u001b[39mTSLA\u001b[39m\u001b[39m\"\u001b[39m,\u001b[39m\"\u001b[39m\u001b[39mMETA\u001b[39m\u001b[39m\"\u001b[39m], [\u001b[39m0.4\u001b[39m, \u001b[39m0.3\u001b[39m, \u001b[39m0.3\u001b[39m])\n\u001b[0;32m      7\u001b[0m basket_price_date \u001b[39m=\u001b[39m \u001b[39m\"\u001b[39m\u001b[39m03/01/2023\u001b[39m\u001b[39m\"\u001b[39m \u001b[39m#pd.to_datetime('2020-01-01')\u001b[39;00m\n\u001b[1;32m----> 8\u001b[0m \u001b[39mprint\u001b[39m(\u001b[39m\"\u001b[39m\u001b[39mbasket price : \u001b[39m\u001b[39m\"\u001b[39m\u001b[39m+\u001b[39m\u001b[39mstr\u001b[39m(basket\u001b[39m.\u001b[39;49mget_price(basket_price_date)))\n\u001b[0;32m     10\u001b[0m start_date \u001b[39m=\u001b[39m \u001b[39m\"\u001b[39m\u001b[39m03/01/2023\u001b[39m\u001b[39m\"\u001b[39m \u001b[39m#pd.to_datetime('2020-01-01')\u001b[39;00m\n\u001b[0;32m     11\u001b[0m end_date \u001b[39m=\u001b[39m \u001b[39m\"\u001b[39m\u001b[39m03/03/2023\u001b[39m\u001b[39m\"\u001b[39m \u001b[39m#pd.to_datetime('2020-01-01')\u001b[39;00m\n",
      "File \u001b[1;32m~\\Documents\\MEGA\\IT QUANT\\Python\\underlyings\\underlyings\\basket.py:18\u001b[0m, in \u001b[0;36mBasket.get_price\u001b[1;34m(self, price_date)\u001b[0m\n\u001b[0;32m     16\u001b[0m       quote \u001b[39m=\u001b[39m Stock(\u001b[39mself\u001b[39m\u001b[39m.\u001b[39mreferences[i])\u001b[39m.\u001b[39mget_quotes(start_date \u001b[39m=\u001b[39m price_date, end_date \u001b[39m=\u001b[39m price_date)\n\u001b[0;32m     17\u001b[0m     \u001b[39mexcept\u001b[39;00m:\n\u001b[1;32m---> 18\u001b[0m       quote \u001b[39m=\u001b[39m Index(\u001b[39mself\u001b[39;49m\u001b[39m.\u001b[39;49mreferences[i])\u001b[39m.\u001b[39;49mget_quotes(start_date \u001b[39m=\u001b[39;49m price_date, end_date \u001b[39m=\u001b[39;49m price_date)\n\u001b[0;32m     20\u001b[0m \u001b[39mreturn\u001b[39;00m price\n",
      "File \u001b[1;32m~\\Documents\\MEGA\\IT QUANT\\Python\\underlyings\\underlyings\\index.py:44\u001b[0m, in \u001b[0;36mIndex.get_quotes\u001b[1;34m(self, start_date, end_date)\u001b[0m\n\u001b[0;32m     41\u001b[0m         chaine \u001b[39m=\u001b[39m \u001b[39mstr\u001b[39m(chaine) \u001b[39m+\u001b[39m country \u001b[39m+\u001b[39m \u001b[39m\"\u001b[39m\u001b[39m: \u001b[39m\u001b[39m\"\u001b[39m\u001b[39m+\u001b[39m\u001b[39mself\u001b[39m\u001b[39m.\u001b[39mticker\u001b[39m+\u001b[39m \u001b[39m\"\u001b[39m\u001b[39m=> KO \u001b[39m\u001b[39m\\n\u001b[39;00m\u001b[39m\"\u001b[39m\n\u001b[0;32m     43\u001b[0m chaine \u001b[39m=\u001b[39m \u001b[39mstr\u001b[39m(chaine) \u001b[39m+\u001b[39m country \u001b[39m+\u001b[39m \u001b[39m\"\u001b[39m\u001b[39m: \u001b[39m\u001b[39m\"\u001b[39m\u001b[39m+\u001b[39m \u001b[39mself\u001b[39m\u001b[39m.\u001b[39mticker \u001b[39m+\u001b[39m \u001b[39m\"\u001b[39m\u001b[39m=> OK \u001b[39m\u001b[39m\\n\u001b[39;00m\u001b[39m\"\u001b[39m\n\u001b[1;32m---> 44\u001b[0m df \u001b[39m=\u001b[39m pd\u001b[39m.\u001b[39mDataFrame(resp_dict\u001b[39m.\u001b[39mget(\u001b[39m'\u001b[39m\u001b[39mdata\u001b[39m\u001b[39m'\u001b[39m))\n\u001b[0;32m     45\u001b[0m df_new \u001b[39m=\u001b[39m pd\u001b[39m.\u001b[39mDataFrame(df[\u001b[39m'\u001b[39m\u001b[39mlast_close\u001b[39m\u001b[39m'\u001b[39m])\n\u001b[0;32m     46\u001b[0m df_new\u001b[39m.\u001b[39mrename(columns \u001b[39m=\u001b[39m {\u001b[39m'\u001b[39m\u001b[39mlast_close\u001b[39m\u001b[39m'\u001b[39m: \u001b[39mself\u001b[39m\u001b[39m.\u001b[39mticker} , inplace \u001b[39m=\u001b[39m \u001b[39mTrue\u001b[39;00m )\n",
      "\u001b[1;31mUnboundLocalError\u001b[0m: cannot access local variable 'resp_dict' where it is not associated with a value"
     ]
    }
   ],
   "source": [
    "import sys\n",
    "from underlyings.imply_correlation import imply_correl\n",
    "from underlyings.basket import Basket\n",
    "import pandas as pd\n",
    "\n",
    "basket = Basket( [\"AAPL\",\"TSLA\",\"META\"], [0.4, 0.3, 0.3])\n",
    "basket_price_date = \"03/01/2023\" #pd.to_datetime('2020-01-01')\n",
    "print(\"basket price : \"+str(basket.get_price(basket_price_date)))\n",
    "\n",
    "start_date = \"03/01/2023\" #pd.to_datetime('2020-01-01')\n",
    "end_date = \"03/03/2023\" #pd.to_datetime('2020-01-01')\n",
    "\n",
    "imply = imply_correl( \"TSLA\", basket, start_date, end_date) \n"
   ]
  }
 ],
 "metadata": {
  "kernelspec": {
   "display_name": "Python 3",
   "language": "python",
   "name": "python3"
  },
  "language_info": {
   "codemirror_mode": {
    "name": "ipython",
    "version": 3
   },
   "file_extension": ".py",
   "mimetype": "text/x-python",
   "name": "python",
   "nbconvert_exporter": "python",
   "pygments_lexer": "ipython3",
   "version": "3.11.1"
  },
  "vscode": {
   "interpreter": {
    "hash": "4647e8f9bb9c23de8158615a764c6ae3466649a5b7984d657ad51295c379afa7"
   }
  }
 },
 "nbformat": 4,
 "nbformat_minor": 2
}
